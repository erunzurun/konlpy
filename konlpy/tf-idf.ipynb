{
 "cells": [
  {
   "cell_type": "code",
   "execution_count": 1,
   "metadata": {},
   "outputs": [],
   "source": [
    "import sys\n",
    "import csv\n",
    "import pandas as pd\n",
    "import numpy as np"
   ]
  },
  {
   "cell_type": "code",
   "execution_count": 2,
   "metadata": {},
   "outputs": [],
   "source": [
    "from konlpy.tag import Twitter\n",
    "from collections import Counter"
   ]
  },
  {
   "cell_type": "code",
   "execution_count": 3,
   "metadata": {},
   "outputs": [],
   "source": [
    "#tf-idf\n",
    "import pandas as pd \n",
    "from math import log"
   ]
  },
  {
   "cell_type": "code",
   "execution_count": 152,
   "metadata": {},
   "outputs": [],
   "source": [
    "#데이터 로드\n",
    "f = pd.read_csv(\"\",encoding='utf-8')\n",
    "\n",
    "f_copy = np.copy(f)"
   ]
  },
  {
   "cell_type": "code",
   "execution_count": 156,
   "metadata": {},
   "outputs": [],
   "source": [
    "vocab = f.columns.to_list()\n",
    "\n",
    "if vocab[0]==\"Unnamed: 0\":\n",
    "        del vocab[0]\n",
    "\n",
    "if vocab[-1]==\"label\":\n",
    "        del vocab[-1]\n",
    "        \n",
    "# print(vocab)"
   ]
  },
  {
   "cell_type": "code",
   "execution_count": 157,
   "metadata": {},
   "outputs": [
    {
     "name": "stdout",
     "output_type": "stream",
     "text": [
      "(1, 9370)\n"
     ]
    }
   ],
   "source": [
    "df_tf = np.zeros((1,len(vocab)))\n",
    "print(df_tf.shape)\n",
    "\n",
    "for i in range(len(vocab)):\n",
    "    sum = f[vocab[i]].sum()\n",
    "    df_tf[0,i] = sum"
   ]
  },
  {
   "cell_type": "code",
   "execution_count": 1,
   "metadata": {
    "scrolled": true
   },
   "outputs": [],
   "source": [
    "df_tf_final = pd.DataFrame(df_tf, columns = vocab)\n",
    "\n",
    "# df_tf_final\n",
    "\n",
    "df_tf_final_sort = df_tf_final.sort_values(by = 0, axis = 1, ascending = False)\n",
    "df_tf_final_sort_t = df_tf_final_sort.T\n",
    "df_tf_final_sort_t"
   ]
  },
  {
   "cell_type": "code",
   "execution_count": 189,
   "metadata": {},
   "outputs": [],
   "source": [
    "df_tf_final_sort_t = df_tf_final_sort_t.rename(columns={0:'합계'})"
   ]
  },
  {
   "cell_type": "code",
   "execution_count": 2,
   "metadata": {},
   "outputs": [],
   "source": [
    "final_tf = df_tf_final_sort_t.copy()\n",
    "final_tf"
   ]
  },
  {
   "cell_type": "code",
   "execution_count": 3,
   "metadata": {},
   "outputs": [],
   "source": [
    "indexNames = final_tf[(final_tf['합계'] >= 1000)\n",
    "                | (final_tf['합계'] <= 0) ].index\n",
    "\n",
    "final_tf.drop(indexNames , inplace=True)\n",
    "final_tf"
   ]
  },
  {
   "cell_type": "code",
   "execution_count": 193,
   "metadata": {},
   "outputs": [],
   "source": [
    "output_file = 'result'"
   ]
  },
  {
   "cell_type": "code",
   "execution_count": 70,
   "metadata": {},
   "outputs": [],
   "source": [
    "N = len(docs) # 총 문서의 수\n",
    "\n",
    "print(N)"
   ]
  },
  {
   "cell_type": "code",
   "execution_count": 72,
   "metadata": {},
   "outputs": [],
   "source": [
    "#tf-idf 정의\n",
    "\n",
    "def tf(t, d):\n",
    "    return d.count(t)\n",
    "\n",
    "def tf_log(t, d):\n",
    "    return log(d.count(t)+1)\n",
    "\n",
    "def idf(t):\n",
    "    df = 0\n",
    "    for doc in docs:\n",
    "        df += t in doc\n",
    "    return log(N/(df + 1))\n",
    "\n",
    "def tfidf(t, d):\n",
    "    return tf(t,d)* idf(t)"
   ]
  },
  {
   "cell_type": "code",
   "execution_count": null,
   "metadata": {},
   "outputs": [],
   "source": [
    "#빈도수 테이블\n",
    "\n",
    "N = len(docs) # 총 문서의 수\n",
    "\n",
    "result = []\n",
    "for i in range(N): # 각 문서에 대해서 아래 명령을 수행\n",
    "    result.append([])\n",
    "    d = docs[i]\n",
    "    for j in range(len(vocab)):\n",
    "        t = vocab[j]\n",
    "        result[-1].append(tf(t, d))\n",
    "\n",
    "tf_table = pd.DataFrame(result, columns = vocab)\n",
    "tf_table"
   ]
  },
  {
   "cell_type": "code",
   "execution_count": 4,
   "metadata": {},
   "outputs": [],
   "source": [
    "#idf 구하기\n",
    "result_idf = []\n",
    "for j in range(len(vocab)):\n",
    "    t = vocab[j]\n",
    "    result_idf.append(idf(t))\n",
    "    \n",
    "print(result_idf)\n",
    "print(len(result_idf))\n",
    "\n",
    "idf_education = pd.DataFrame(result_idf, index = vocab, columns = [\"IDF\"])\n",
    "idf_educaion = idf_education.sort_values('IDF', ascending = False)\n",
    "idf_education"
   ]
  },
  {
   "cell_type": "code",
   "execution_count": null,
   "metadata": {},
   "outputs": [],
   "source": []
  }
 ],
 "metadata": {
  "kernelspec": {
   "display_name": "Python 3 (ipykernel)",
   "language": "python",
   "name": "python3"
  },
  "language_info": {
   "codemirror_mode": {
    "name": "ipython",
    "version": 3
   },
   "file_extension": ".py",
   "mimetype": "text/x-python",
   "name": "python",
   "nbconvert_exporter": "python",
   "pygments_lexer": "ipython3",
   "version": "3.11.4"
  }
 },
 "nbformat": 4,
 "nbformat_minor": 4
}
